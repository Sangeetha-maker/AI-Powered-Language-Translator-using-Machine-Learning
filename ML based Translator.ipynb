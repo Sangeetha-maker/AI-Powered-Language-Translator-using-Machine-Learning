{
 "cells": [
  {
   "cell_type": "code",
   "execution_count": 6,
   "id": "283bed6b-7d7a-44be-88b3-cf73525719fa",
   "metadata": {},
   "outputs": [
    {
     "data": {
      "text/plain": [
       "'beautiful'"
      ]
     },
     "execution_count": 6,
     "metadata": {},
     "output_type": "execute_result"
    }
   ],
   "source": [
    "import goslate\n",
    "inserted_text = \"beautiful\"\n",
    "new_gs = goslate.Goslate()\n",
    "new_gs.translate(inserted_text,'german')"
   ]
  },
  {
   "cell_type": "code",
   "execution_count": 7,
   "id": "d5c759de-5cc6-4a4d-8a52-64eb06f04dde",
   "metadata": {},
   "outputs": [
    {
     "name": "stdout",
     "output_type": "stream",
     "text": [
      "Collecting translate\n",
      "  Downloading translate-3.6.1-py2.py3-none-any.whl.metadata (7.7 kB)\n",
      "Collecting click (from translate)\n",
      "  Downloading click-8.1.8-py3-none-any.whl.metadata (2.3 kB)\n",
      "Collecting lxml (from translate)\n",
      "  Downloading lxml-5.3.0-cp313-cp313-win_amd64.whl.metadata (3.9 kB)\n",
      "Requirement already satisfied: requests in c:\\users\\sarav\\appdata\\local\\programs\\python\\python313\\lib\\site-packages (from translate) (2.32.3)\n",
      "Collecting libretranslatepy==2.1.1 (from translate)\n",
      "  Downloading libretranslatepy-2.1.1-py3-none-any.whl.metadata (233 bytes)\n",
      "Requirement already satisfied: colorama in c:\\users\\sarav\\appdata\\local\\programs\\python\\python313\\lib\\site-packages (from click->translate) (0.4.6)\n",
      "Requirement already satisfied: charset-normalizer<4,>=2 in c:\\users\\sarav\\appdata\\local\\programs\\python\\python313\\lib\\site-packages (from requests->translate) (3.4.1)\n",
      "Requirement already satisfied: idna<4,>=2.5 in c:\\users\\sarav\\appdata\\local\\programs\\python\\python313\\lib\\site-packages (from requests->translate) (3.10)\n",
      "Requirement already satisfied: urllib3<3,>=1.21.1 in c:\\users\\sarav\\appdata\\local\\programs\\python\\python313\\lib\\site-packages (from requests->translate) (2.3.0)\n",
      "Requirement already satisfied: certifi>=2017.4.17 in c:\\users\\sarav\\appdata\\local\\programs\\python\\python313\\lib\\site-packages (from requests->translate) (2024.12.14)\n",
      "Downloading translate-3.6.1-py2.py3-none-any.whl (12 kB)\n",
      "Downloading libretranslatepy-2.1.1-py3-none-any.whl (3.2 kB)\n",
      "Downloading click-8.1.8-py3-none-any.whl (98 kB)\n",
      "Downloading lxml-5.3.0-cp313-cp313-win_amd64.whl (3.8 MB)\n",
      "   ---------------------------------------- 0.0/3.8 MB ? eta -:--:--\n",
      "   -- ------------------------------------- 0.3/3.8 MB ? eta -:--:--\n",
      "   -------- ------------------------------- 0.8/3.8 MB 1.9 MB/s eta 0:00:02\n",
      "   ---------------- ----------------------- 1.6/3.8 MB 2.6 MB/s eta 0:00:01\n",
      "   --------------------- ------------------ 2.1/3.8 MB 2.5 MB/s eta 0:00:01\n",
      "   --------------------------- ------------ 2.6/3.8 MB 2.4 MB/s eta 0:00:01\n",
      "   ------------------------------ --------- 2.9/3.8 MB 2.4 MB/s eta 0:00:01\n",
      "   ----------------------------------- ---- 3.4/3.8 MB 2.3 MB/s eta 0:00:01\n",
      "   ---------------------------------------- 3.8/3.8 MB 2.3 MB/s eta 0:00:00\n",
      "Installing collected packages: libretranslatepy, lxml, click, translate\n",
      "Successfully installed click-8.1.8 libretranslatepy-2.1.1 lxml-5.3.0 translate-3.6.1\n"
     ]
    }
   ],
   "source": [
    "!pip install translate"
   ]
  },
  {
   "cell_type": "code",
   "execution_count": 14,
   "id": "aca9237c-183f-40ba-80dd-b84f98f694ed",
   "metadata": {},
   "outputs": [
    {
     "name": "stdout",
     "output_type": "stream",
     "text": [
      "الجدول\n"
     ]
    }
   ],
   "source": [
    "from translate import Translator\n",
    "t_er = Translator(from_lang = \"english\",to_lang = \"arabic\")\n",
    "t_ier = t_er.translate(\"She\")\n",
    "print(t_ier)"
   ]
  },
  {
   "cell_type": "code",
   "execution_count": null,
   "id": "39e62538-027b-4e86-9e7e-e9a1a12ccc66",
   "metadata": {},
   "outputs": [],
   "source": []
  }
 ],
 "metadata": {
  "kernelspec": {
   "display_name": "Python 3 (ipykernel)",
   "language": "python",
   "name": "python3"
  },
  "language_info": {
   "codemirror_mode": {
    "name": "ipython",
    "version": 3
   },
   "file_extension": ".py",
   "mimetype": "text/x-python",
   "name": "python",
   "nbconvert_exporter": "python",
   "pygments_lexer": "ipython3",
   "version": "3.13.1"
  }
 },
 "nbformat": 4,
 "nbformat_minor": 5
}
